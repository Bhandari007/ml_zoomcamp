{
 "cells": [
  {
   "cell_type": "markdown",
   "id": "d5a8ca08",
   "metadata": {},
   "source": [
    "# Regression\n"
   ]
  },
  {
   "cell_type": "markdown",
   "id": "91742e2e",
   "metadata": {},
   "source": [
    "## Importing libraries"
   ]
  },
  {
   "cell_type": "code",
   "execution_count": 1,
   "id": "29fbaccb",
   "metadata": {},
   "outputs": [],
   "source": [
    "import pandas as pd\n",
    "import numpy as np\n",
    "import seaborn as sns\n",
    "from matplotlib import pyplot as plt \n",
    "%matplotlib inline"
   ]
  },
  {
   "cell_type": "markdown",
   "id": "7e8a8540",
   "metadata": {},
   "source": [
    "## EDA"
   ]
  },
  {
   "cell_type": "markdown",
   "id": "841b5a49",
   "metadata": {},
   "source": [
    "* Load the data\n",
    "* Look at the `median_house_value` variable. Does it have a long tail?"
   ]
  },
  {
   "cell_type": "code",
   "execution_count": 2,
   "id": "3dcfa243",
   "metadata": {},
   "outputs": [],
   "source": [
    "df = pd.read_csv(\"./data/housing.csv\")"
   ]
  },
  {
   "cell_type": "code",
   "execution_count": 3,
   "id": "6aed454e",
   "metadata": {},
   "outputs": [
    {
     "data": {
      "text/plain": [
       "Text(0, 0.5, 'Frequency')"
      ]
     },
     "execution_count": 3,
     "metadata": {},
     "output_type": "execute_result"
    },
    {
     "data": {
      "image/png": "[encoded data removed]",
      "text/plain": [
       "<Figure size 720x432 with 1 Axes>"
      ]
     },
     "metadata": {
      "needs_background": "light"
     },
     "output_type": "display_data"
    }
   ],
   "source": [
    "plt.figure(figsize=(10,6))\n",
    "sns.histplot(df[\"median_house_value\"],bins=20,kde=True);\n",
    "plt.xlabel(\"Median House Price\")\n",
    "plt.ylabel(\"Frequency\")"
   ]
  },
  {
   "cell_type": "markdown",
   "id": "014fa6f4",
   "metadata": {},
   "source": [
    "## Features"
   ]
  },
  {
   "cell_type": "code",
   "execution_count": 4,
   "id": "5e85478e",
   "metadata": {},
   "outputs": [
    {
     "data": {
      "text/plain": [
       "Index(['latitude', 'longitude', 'housing_median_age', 'total_rooms',\n",
       "       'total_bedrooms', 'population', 'households', 'median_income',\n",
       "       'median_house_value'],\n",
       "      dtype='object')"
      ]
     },
     "execution_count": 4,
     "metadata": {},
     "output_type": "execute_result"
    }
   ],
   "source": [
    "\n",
    "cols = [\"latitude\",\"longitude\",\"housing_median_age\",\"total_rooms\",\"total_bedrooms\",\"population\",\"households\",\"median_income\",\"median_house_value\"]\n",
    "df_hw = df[cols]\n",
    "df_hw.columns"
   ]
  },
  {
   "cell_type": "markdown",
   "id": "7a67d592",
   "metadata": {},
   "source": [
    "## Question 1"
   ]
  },
  {
   "cell_type": "markdown",
   "id": "08e6a15a",
   "metadata": {},
   "source": [
    "Find a feature with missing values. How many missing values does it have?"
   ]
  },
  {
   "cell_type": "code",
   "execution_count": 5,
   "id": "fb576af4",
   "metadata": {},
   "outputs": [
    {
     "data": {
      "text/plain": [
       "['total_bedrooms']"
      ]
     },
     "execution_count": 5,
     "metadata": {},
     "output_type": "execute_result"
    }
   ],
   "source": [
    "missing_value_cols = [col for col in df_hw.columns if df_hw[col].isnull().sum()]\n",
    "missing_value_cols"
   ]
  },
  {
   "cell_type": "code",
   "execution_count": 6,
   "id": "476360e0",
   "metadata": {},
   "outputs": [
    {
     "data": {
      "text/plain": [
       "total_bedrooms    207\n",
       "dtype: int64"
      ]
     },
     "execution_count": 6,
     "metadata": {},
     "output_type": "execute_result"
    }
   ],
   "source": [
    "df[missing_value_cols].isnull().sum()"
   ]
  },
  {
   "cell_type": "markdown",
   "id": "4eca70da",
   "metadata": {},
   "source": [
    "## Question 2\n",
    "\n",
    "What's the median(50 % percentile) for variable 'population'?"
   ]
  },
  {
   "cell_type": "code",
   "execution_count": 7,
   "id": "36e99ef8",
   "metadata": {},
   "outputs": [
    {
     "data": {
      "text/plain": [
       "count    20640.000000\n",
       "mean      1425.476744\n",
       "std       1132.462122\n",
       "min          3.000000\n",
       "25%        787.000000\n",
       "50%       1166.000000\n",
       "75%       1725.000000\n",
       "max      35682.000000\n",
       "Name: population, dtype: float64"
      ]
     },
     "execution_count": 7,
     "metadata": {},
     "output_type": "execute_result"
    }
   ],
   "source": [
    "df[\"population\"].describe()"
   ]
  },
  {
   "cell_type": "markdown",
   "id": "7b78e6ca",
   "metadata": {},
   "source": [
    "The 50% percentile is 1166"
   ]
  },
  {
   "cell_type": "markdown",
   "id": "66b20ec2",
   "metadata": {},
   "source": [
    "## Split the data\n",
    "\n",
    "* Shuffle the initial dataset, use seed `42`.\n",
    "* Split the data in train/val/test sets, with 60%/20%/20% distribution.\n",
    "* Make sure that the target value ('median_house_value') is not in your dataframe\n",
    "* Apply the log transformation to the median_house_value variable using the `np.log1p()` function"
   ]
  },
  {
   "cell_type": "code",
   "execution_count": 8,
   "id": "5c5c4bdd",
   "metadata": {},
   "outputs": [],
   "source": [
    "# Set seed to 42\n",
    "np.random.seed(42)\n",
    "# size of  the dataframe\n",
    "n = len(df_hw)\n",
    "# setting the size of validation,test and train to 20,20 and 60% respectively\n",
    "\n",
    "n_val = int (0.2*n)\n",
    "n_test = int (0.2*n)\n",
    "n_train = n - (n_val + n_test)\n",
    "\n",
    "# Generating a range of index and shuffling the index\n",
    "idx = np.arange(n)\n",
    "np.random.shuffle(idx)\n",
    "\n",
    "# Creating shuffled dataframe\n",
    "df_shuffled = df_hw.iloc[idx]\n",
    "\n",
    "# Splitting the shuffled data into train,val and test sets\n",
    "df_train = df_shuffled.iloc[:n_train].copy()\n",
    "df_val = df_shuffled.iloc[n_train:n_train+n_val].copy()\n",
    "df_test = df_shuffled.iloc[n_train+n_val:].copy()\n",
    "\n",
    "\n",
    "# Creating target variable\n",
    "\n",
    "y_train = df_train['median_house_value']\n",
    "y_val = df_val['median_house_value']\n",
    "y_test = df_test['median_house_value']\n",
    "\n",
    "# Applying log transformation to the medain_house_value\n",
    "y_train = np.log1p(df_train[\"median_house_value\"].values)\n",
    "y_val = np.log1p(df_val[\"median_house_value\"].values)\n",
    "y_test = np.log1p(df_test[\"median_house_value\"].values)\n",
    "\n",
    "# Deleting column \"median_house_value\"\n",
    "\n",
    "del df_train['median_house_value']\n",
    "del df_val['median_house_value']\n",
    "del df_test['median_house_value']\n"
   ]
  },
  {
   "cell_type": "markdown",
   "id": "e6726423",
   "metadata": {},
   "source": [
    "## Question 3\n",
    "* Fill the missing values with 0 and with mean of this variable.\n",
    "* For each, train a linear regression model without regularization\n",
    "* For computing the mean, use the training only!\n",
    "* Use the validation dataset to evaluate the models and comparte the RMSe of each options\n",
    "* Round the RMSE scores to 2 decimal digits using `round(score,2)`\n",
    "* Which option gives better RMSE?"
   ]
  },
  {
   "cell_type": "code",
   "execution_count": 9,
   "id": "10c71db9",
   "metadata": {},
   "outputs": [],
   "source": [
    "df_train_copy = df_train.copy()\n",
    "# Filling missing value with mean\n",
    "df_train_mean = df_train_copy.fillna(df[missing_value_cols].mean(),axis=0)\n",
    "# Filling missing value with 0\n",
    "df_train_zero = df_train_copy.fillna(0,axis=0)"
   ]
  },
  {
   "cell_type": "code",
   "execution_count": 10,
   "id": "72c03725",
   "metadata": {},
   "outputs": [],
   "source": [
    "def linear_regression(X, y):\n",
    "    ones = np.ones(X.shape[0])\n",
    "    X = np.column_stack([ones, X])\n",
    "\n",
    "    XTX = X.T.dot(X)\n",
    "    XTX_inv = np.linalg.inv(XTX)\n",
    "    w_full = XTX_inv.dot(X.T).dot(y)\n",
    "    \n",
    "    return w_full[0], w_full[1:]"
   ]
  },
  {
   "cell_type": "code",
   "execution_count": 15,
   "id": "b1036460",
   "metadata": {},
   "outputs": [],
   "source": [
    "def rmse(y,y_pred):\n",
    "    se = (y-y_pred)\n",
    "    mse = (se**2).mean()\n",
    "    return np.sqrt(mse)"
   ]
  },
  {
   "cell_type": "code",
   "execution_count": 12,
   "id": "860538d9",
   "metadata": {},
   "outputs": [],
   "source": [
    "def make_predictions(w0,w,X_val):\n",
    "    return w0+X_val.dot(w)"
   ]
  },
  {
   "cell_type": "code",
   "execution_count": 16,
   "id": "1491b183",
   "metadata": {},
   "outputs": [],
   "source": [
    "def model(X,y,X_val,y_val):\n",
    "    w0,w = linear_regression(X,y)\n",
    "    y_pred = make_predictions(w0,w,X_val)\n",
    "    score = round(rmse(y_val,y_pred),2)\n",
    "    params = {\n",
    "        \"w0\":w0,\n",
    "        \"w\":w,\n",
    "        \"score\":score\n",
    "    }\n",
    "    return params"
   ]
  },
  {
   "cell_type": "code",
   "execution_count": 17,
   "id": "b685cb5e",
   "metadata": {},
   "outputs": [
    {
     "name": "stdout",
     "output_type": "stream",
     "text": [
      " (For 0 filled data) Score is 0.33\n",
      " (For mean filled data) Score is 0.33\n"
     ]
    }
   ],
   "source": [
    "param_1 = model(df_train_zero,y_train,df_val,y_val)\n",
    "print(f\" (For 0 filled data) Score is {param_1['score']}\")\n",
    "param_2 = model(df_train_mean,y_train,df_val,y_val)\n",
    "print(f\" (For mean filled data) Score is {param_2['score']}\")"
   ]
  },
  {
   "cell_type": "markdown",
   "id": "3ae45444",
   "metadata": {},
   "source": [
    "Both gives better results."
   ]
  },
  {
   "cell_type": "markdown",
   "id": "7c01e45f",
   "metadata": {},
   "source": [
    "## Question 4\n",
    "* Now let's train a regularized linear regression\n",
    "* For this question, fill the NAs with 0.\n",
    "* Try different values of `r` from the list: `[0,0.000001,0.0001,0.001,0.01,0.1,1,5,10]`\n",
    "* Use RMSE to evaluate the model on the validation dataset.\n",
    "* Round the RMSE scores to 2 decimal digits.\n",
    "* Which `r` gives the best RMSE?"
   ]
  },
  {
   "cell_type": "code",
   "execution_count": 18,
   "id": "cad819fe",
   "metadata": {},
   "outputs": [],
   "source": [
    "def linear_regression_reg(X,y,r):\n",
    "    ones = np.ones(X.shape[0])\n",
    "    X = np.column_stack([ones,X])\n",
    "    XTX = X.T.dot(X)\n",
    "    XTX = XTX + r * np.eye(XTX.shape[0])\n",
    "    XTX_inv = np.linalg.inv(XTX)\n",
    "    w_full = XTX_inv.dot(X.T).dot(y)\n",
    "    return w_full[0],w_full[1:] "
   ]
  },
  {
   "cell_type": "code",
   "execution_count": 19,
   "id": "f7379e4f",
   "metadata": {},
   "outputs": [],
   "source": [
    "def model_with_regularization(X,y,X_test,y_test,r):\n",
    "    w0,w = linear_regression_reg(X,y,r)\n",
    "    y_pred = make_predictions(w0,w,X_test)\n",
    "    score = round(rmse(y_test,y_pred),2)\n",
    "    params = {\n",
    "        \"r\":r,\n",
    "        \"w0\":w0,\n",
    "        \"w\":w,\n",
    "        \"score\":score\n",
    "    }\n",
    "    return params"
   ]
  },
  {
   "cell_type": "code",
   "execution_count": 20,
   "id": "855caab0",
   "metadata": {},
   "outputs": [
    {
     "name": "stdout",
     "output_type": "stream",
     "text": [
      "(r,score)\n",
      "(0, 0.33)\n",
      "(1e-06, 0.33)\n",
      "(0.0001, 0.33)\n",
      "(0.001, 0.33)\n",
      "(0.01, 0.33)\n",
      "(0.1, 0.33)\n",
      "(1, 0.33)\n",
      "(5, 0.34)\n",
      "(10, 0.34)\n"
     ]
    }
   ],
   "source": [
    "print(\"(r,score)\")\n",
    "df_train = df_train.fillna(0,axis=0)\n",
    "for r in [0,0.000001,0.0001,0.001,0.01,0.1,1,5,10]:\n",
    "    params = model_with_regularization(df_train,y_train,df_val,y_val,r)\n",
    "    print(f\"{params['r'],params['score']}\")"
   ]
  },
  {
   "cell_type": "markdown",
   "id": "cd9e3d52",
   "metadata": {},
   "source": [
    "r with 0 gives the best score."
   ]
  },
  {
   "cell_type": "markdown",
   "id": "da787d48",
   "metadata": {},
   "source": [
    "## Question 5\n",
    "* Try different seed values: `[0,1,2,3,4,5,6,7,8,9]`\n",
    "* For each seed, do the train/validatoin/test splt with 60%/20%/20% distrubution.\n",
    "* Fill the missing values with 0 and train a model without regularization.\n",
    "* For each seed, evaluate the model on the validation dataset and collect the RMSE score.\n",
    "* What's the standard deviation of all the scores?\n",
    "* Round the reuslt to 3 decimal digits"
   ]
  },
  {
   "cell_type": "code",
   "execution_count": 56,
   "id": "5f356868",
   "metadata": {},
   "outputs": [
    {
     "name": "stdout",
     "output_type": "stream",
     "text": [
      "0.34\n",
      "0.34\n",
      "0.33\n",
      "0.34\n",
      "0.34\n",
      "0.34\n",
      "0.35\n",
      "0.34\n",
      "0.35\n",
      "0.34\n"
     ]
    }
   ],
   "source": [
    "for s in range(0,10):\n",
    "    # Set seed to s\n",
    "    np.random.seed(s)\n",
    "    \n",
    "    # size of  the dataframe\n",
    "    n = len(df_hw)\n",
    "    # setting the size of validation,test and train to 20,20 and 60% respectively\n",
    "    n_val = int (0.2*n)\n",
    "    n_test = int (0.2*n)\n",
    "    n_train = n - (n_val + n_test)\n",
    "\n",
    "    # Generating a range of index and shuffling the index\n",
    "    idx = np.arange(n)\n",
    "    np.random.shuffle(idx)\n",
    "\n",
    "    # Creating shuffled dataframe\n",
    "    df_shuffled = df_hw.iloc[idx]\n",
    "\n",
    "    # Splitting the shuffled data into train,val and test sets\n",
    "    df_train = df_shuffled.iloc[:n_train].copy()\n",
    "    df_val = df_shuffled.iloc[n_train:n_train+n_val].copy()\n",
    "    df_test = df_shuffled.iloc[n_train+n_val:].copy()\n",
    "    \n",
    "    \n",
    "     # Filling the missing values with 0\n",
    "    df_train = df_train.fillna(0,axis=0)\n",
    "    df_val = df_val.fillna(0,axis=0)\n",
    "    df_test = df_val.fillna(0,axis=0)\n",
    "\n",
    "\n",
    "    # Creating target variable\n",
    "\n",
    "    y_train = df_train['median_house_value']\n",
    "    y_val = df_val['median_house_value']\n",
    "    y_test = df_test['median_house_value']\n",
    "\n",
    "    # Applying log transformation to the medain_house_value\n",
    "    y_train = np.log1p(df_train[\"median_house_value\"].values)\n",
    "    y_val = np.log1p(df_val[\"median_house_value\"].values)\n",
    "    y_test = np.log1p(df_test[\"median_house_value\"].values)\n",
    "    \n",
    "    \n",
    "\n",
    "    # Deleting column \"medain_house_value\"\n",
    "\n",
    "    del df_train['median_house_value']\n",
    "    del df_val['median_house_value']\n",
    "    del df_test['median_house_value']\n",
    "    \n",
    "   \n",
    "    \n",
    "    params =  model_with_regularization(df_train,y_train,df_val,y_val,0)\n",
    "    print(params[\"score\"])\n",
    "    "
   ]
  },
  {
   "cell_type": "code",
   "execution_count": 57,
   "id": "e15eb7eb",
   "metadata": {},
   "outputs": [
    {
     "data": {
      "text/plain": [
       "0.0"
      ]
     },
     "execution_count": 57,
     "metadata": {},
     "output_type": "execute_result"
    }
   ],
   "source": [
    "round(np.std(params[\"score\"]),3)"
   ]
  },
  {
   "cell_type": "markdown",
   "id": "987011cb",
   "metadata": {},
   "source": [
    "## Question 6\n",
    "* Split the dataset like previously, use seed 9.\n",
    "* Combine train and validation datasets.\n",
    "* Fill the missing values with 0 and train a model with `r=0.001`\n",
    "* What's the RMSE on the test dataset."
   ]
  },
  {
   "cell_type": "code",
   "execution_count": 53,
   "id": "9b9d6ee3",
   "metadata": {},
   "outputs": [],
   "source": [
    "# Set seed to 9\n",
    "np.random.seed(9)\n",
    "# size of  the dataframe\n",
    "n = len(df_hw)\n",
    "# setting the size of validation,test and train to 20,20 and 60% respectively\n",
    "\n",
    "n_val = int (0.2*n)\n",
    "n_test = int (0.2*n)\n",
    "n_train = n - (n_val + n_test)\n",
    "\n",
    "# Generating a range of index and shuffling the index\n",
    "idx = np.arange(n)\n",
    "np.random.shuffle(idx)\n",
    "\n",
    "# Creating shuffled dataframe\n",
    "df_shuffled = df_hw.iloc[idx]\n",
    "\n",
    "# Splitting the shuffled data into train,val and test sets\n",
    "df_train = df_shuffled.iloc[:n_train].copy()\n",
    "df_val = df_shuffled.iloc[n_train:n_train+n_val].copy()\n",
    "df_test = df_shuffled.iloc[n_train+n_val:].copy()\n",
    "\n",
    "\n",
    "df_train = df_train.fillna(0,axis=0)\n",
    "df_val = df_val.fillna(0,axis=0)\n",
    "df_test = df_val.fillna(0,axis=0)\n",
    "\n",
    "# Creating target variable\n",
    "\n",
    "y_train = df_train['median_house_value']\n",
    "y_val = df_val['median_house_value']\n",
    "y_test = df_test['median_house_value']\n",
    "\n",
    "# Applying log transformation to the medain_house_value\n",
    "y_train = np.log1p(df_train[\"median_house_value\"].values)\n",
    "y_val = np.log1p(df_val[\"median_house_value\"].values)\n",
    "y_test = np.log1p(df_test[\"median_house_value\"].values)\n",
    "\n",
    "# Deleting column \"medain_house_value\"\n",
    "\n",
    "del df_train['median_house_value']\n",
    "del df_val['median_house_value']\n",
    "del df_test['median_house_value']\n",
    "\n",
    "\n",
    "\n",
    "# Combining train and validation dataset\n",
    "\n",
    "df_full_train = pd.concat([df_train,df_val])\n",
    "\n",
    "df_full_train = df_full_train.reset_index(drop=True)\n",
    "y_full_train = np.concatenate([y_train,y_val])"
   ]
  },
  {
   "cell_type": "code",
   "execution_count": 54,
   "id": "4acc7c8f",
   "metadata": {},
   "outputs": [],
   "source": [
    "params = model_with_regularization(df_full_train,y_full_train,df_test,y_test,r=0.001)"
   ]
  },
  {
   "cell_type": "code",
   "execution_count": 55,
   "id": "3502c15c",
   "metadata": {},
   "outputs": [
    {
     "data": {
      "text/plain": [
       "0.34"
      ]
     },
     "execution_count": 55,
     "metadata": {},
     "output_type": "execute_result"
    }
   ],
   "source": [
    "params[\"score\"]"
   ]
  },
  {
   "cell_type": "code",
   "execution_count": null,
   "id": "da268720",
   "metadata": {},
   "outputs": [],
   "source": []
  }
 ],
 "metadata": {
  "kernelspec": {
   "display_name": "Python 3 (ipykernel)",
   "language": "python",
   "name": "python3"
  },
  "language_info": {
   "codemirror_mode": {
    "name": "ipython",
    "version": 3
   },
   "file_extension": ".py",
   "mimetype": "text/x-python",
   "name": "python",
   "nbconvert_exporter": "python",
   "pygments_lexer": "ipython3",
   "version": "3.10.4"
  }
 },
 "nbformat": 4,
 "nbformat_minor": 5
}
