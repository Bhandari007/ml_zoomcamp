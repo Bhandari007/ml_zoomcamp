{
 "cells": [
  {
   "cell_type": "markdown",
   "id": "ead09db3",
   "metadata": {},
   "source": [
    "## Session #1 Homework"
   ]
  },
  {
   "cell_type": "code",
   "execution_count": 1,
   "id": "82653f3f",
   "metadata": {},
   "outputs": [],
   "source": [
    "import numpy as np\n",
    "import pandas as pd"
   ]
  },
  {
   "cell_type": "markdown",
   "id": "925601d3",
   "metadata": {},
   "source": [
    "### Question 1"
   ]
  },
  {
   "cell_type": "code",
   "execution_count": 2,
   "id": "199fc07d",
   "metadata": {},
   "outputs": [
    {
     "data": {
      "text/plain": [
       "'1.21.5'"
      ]
     },
     "execution_count": 2,
     "metadata": {},
     "output_type": "execute_result"
    }
   ],
   "source": [
    "np.__version__"
   ]
  },
  {
   "cell_type": "code",
   "execution_count": 3,
   "id": "0ada062a",
   "metadata": {},
   "outputs": [],
   "source": [
    "df = pd.read_csv(\"./data.csv\")"
   ]
  },
  {
   "cell_type": "markdown",
   "id": "6472088f",
   "metadata": {},
   "source": [
    "**How many records are in the dataset?**"
   ]
  },
  {
   "cell_type": "code",
   "execution_count": 4,
   "id": "95e47fda",
   "metadata": {},
   "outputs": [
    {
     "data": {
      "text/plain": [
       "(11914, 16)"
      ]
     },
     "execution_count": 4,
     "metadata": {},
     "output_type": "execute_result"
    }
   ],
   "source": [
    "df.shape"
   ]
  },
  {
   "cell_type": "markdown",
   "id": "7a1b687c",
   "metadata": {},
   "source": [
    "There are 11914 rows and 16 columns"
   ]
  },
  {
   "cell_type": "markdown",
   "id": "371a2114",
   "metadata": {},
   "source": [
    "**Who are the most popular car manufactures (top-3) according to the dataset?**"
   ]
  },
  {
   "cell_type": "code",
   "execution_count": 5,
   "id": "23173cbc",
   "metadata": {},
   "outputs": [
    {
     "data": {
      "text/plain": [
       "Make\n",
       "Ford         4983817\n",
       "Chevrolet    1555355\n",
       "Toyota       1515126\n",
       "Name: Popularity, dtype: int64"
      ]
     },
     "execution_count": 5,
     "metadata": {},
     "output_type": "execute_result"
    }
   ],
   "source": [
    "df.groupby(\"Make\").sum().Popularity.nlargest(3)"
   ]
  },
  {
   "cell_type": "markdown",
   "id": "39f6e498",
   "metadata": {},
   "source": [
    "**What's the number of unique Audi car models in the dataset?**"
   ]
  },
  {
   "cell_type": "code",
   "execution_count": 6,
   "id": "b8e0edfa",
   "metadata": {},
   "outputs": [
    {
     "data": {
      "text/plain": [
       "34"
      ]
     },
     "execution_count": 6,
     "metadata": {},
     "output_type": "execute_result"
    }
   ],
   "source": [
    "df[df[\"Make\"] == \"Audi\"][\"Model\"].nunique()"
   ]
  },
  {
   "cell_type": "markdown",
   "id": "6de868b0",
   "metadata": {},
   "source": [
    "**How many columns in the dataset have missing values?**"
   ]
  },
  {
   "cell_type": "code",
   "execution_count": 7,
   "id": "cff0922c",
   "metadata": {},
   "outputs": [
    {
     "name": "stdout",
     "output_type": "stream",
     "text": [
      "No of missing columns = 5\n"
     ]
    }
   ],
   "source": [
    "count = 0\n",
    "for col in df.columns:\n",
    "    if df[col].isnull().sum() >0 :\n",
    "        count+=1\n",
    "print(f\"No of missing columns = {count}\")"
   ]
  },
  {
   "cell_type": "markdown",
   "id": "b7fa7572",
   "metadata": {},
   "source": [
    "**Question 6**\n",
    "* Find the median value of \"Engine Cylinders\" column in the dataset "
   ]
  },
  {
   "cell_type": "code",
   "execution_count": 8,
   "id": "458f76aa",
   "metadata": {},
   "outputs": [
    {
     "data": {
      "text/plain": [
       "6.0"
      ]
     },
     "execution_count": 8,
     "metadata": {},
     "output_type": "execute_result"
    }
   ],
   "source": [
    "df[\"Engine Cylinders\"].median()"
   ]
  },
  {
   "cell_type": "markdown",
   "id": "b646bb46",
   "metadata": {},
   "source": [
    "* Calculate the most frequent value of the same \"Engine Cylinders\""
   ]
  },
  {
   "cell_type": "code",
   "execution_count": 9,
   "id": "b3908ece",
   "metadata": {},
   "outputs": [
    {
     "data": {
      "text/plain": [
       "0    4.0\n",
       "Name: Engine Cylinders, dtype: float64"
      ]
     },
     "execution_count": 9,
     "metadata": {},
     "output_type": "execute_result"
    }
   ],
   "source": [
    "mode=df[\"Engine Cylinders\"].mode()\n",
    "mode"
   ]
  },
  {
   "cell_type": "markdown",
   "id": "483a0b1b",
   "metadata": {},
   "source": [
    "* Use the `fillna` method to fill the missing valuues in \"Engine Cylinders\" with the most frequent value from the previous step"
   ]
  },
  {
   "cell_type": "code",
   "execution_count": 10,
   "id": "6ba93c46",
   "metadata": {},
   "outputs": [],
   "source": [
    "df[\"Engine Cylinders\"].fillna(value=4,inplace = True)"
   ]
  },
  {
   "cell_type": "code",
   "execution_count": 11,
   "id": "89c45d45",
   "metadata": {},
   "outputs": [
    {
     "data": {
      "text/plain": [
       "0"
      ]
     },
     "execution_count": 11,
     "metadata": {},
     "output_type": "execute_result"
    }
   ],
   "source": [
    "df[\"Engine Cylinders\"].isnull().sum()"
   ]
  },
  {
   "cell_type": "markdown",
   "id": "9baefe94",
   "metadata": {},
   "source": [
    "* Calculate the median value of \"Engine Cylinders\" once again"
   ]
  },
  {
   "cell_type": "code",
   "execution_count": 12,
   "id": "743a7d74",
   "metadata": {},
   "outputs": [
    {
     "data": {
      "text/plain": [
       "6.0"
      ]
     },
     "execution_count": 12,
     "metadata": {},
     "output_type": "execute_result"
    }
   ],
   "source": [
    "df[\"Engine Cylinders\"].median()"
   ]
  },
  {
   "cell_type": "markdown",
   "id": "7e48a1a9",
   "metadata": {},
   "source": [
    "**Question 7**"
   ]
  },
  {
   "cell_type": "markdown",
   "id": "a34ded71",
   "metadata": {},
   "source": [
    "* Select all \"Lotus\" cars from the dataset."
   ]
  },
  {
   "cell_type": "code",
   "execution_count": 23,
   "id": "05be4536",
   "metadata": {},
   "outputs": [],
   "source": [
    "sub_df = df[df[\"Make\"] == \"Lotus\"]"
   ]
  },
  {
   "cell_type": "markdown",
   "id": "96253c00",
   "metadata": {},
   "source": [
    "* Select only columns \"Engine HP\", \"Engine Cylinders\""
   ]
  },
  {
   "cell_type": "code",
   "execution_count": 24,
   "id": "f4b84512",
   "metadata": {},
   "outputs": [],
   "source": [
    "sub_df = sub_df[[\"Engine HP\",\"Engine Cylinders\"]]"
   ]
  },
  {
   "cell_type": "code",
   "execution_count": 25,
   "id": "f76f7ee0",
   "metadata": {},
   "outputs": [
    {
     "data": {
      "text/plain": [
       "Index(['Engine HP', 'Engine Cylinders'], dtype='object')"
      ]
     },
     "execution_count": 25,
     "metadata": {},
     "output_type": "execute_result"
    }
   ],
   "source": [
    "sub_df.columns"
   ]
  },
  {
   "cell_type": "markdown",
   "id": "f68659aa",
   "metadata": {},
   "source": [
    "* Drop all duplicated rows using `drop_duplicates` method"
   ]
  },
  {
   "cell_type": "code",
   "execution_count": 26,
   "id": "6b73ad4f",
   "metadata": {},
   "outputs": [],
   "source": [
    "sub_df = sub_df.drop_duplicates()"
   ]
  },
  {
   "cell_type": "markdown",
   "id": "5db5d445",
   "metadata": {},
   "source": [
    "* Ge the underlying NumPy array"
   ]
  },
  {
   "cell_type": "code",
   "execution_count": 27,
   "id": "09c23014",
   "metadata": {},
   "outputs": [
    {
     "data": {
      "text/plain": [
       "array([[189.,   4.],\n",
       "       [218.,   4.],\n",
       "       [217.,   4.],\n",
       "       [350.,   8.],\n",
       "       [400.,   6.],\n",
       "       [276.,   6.],\n",
       "       [345.,   6.],\n",
       "       [257.,   4.],\n",
       "       [240.,   4.]])"
      ]
     },
     "execution_count": 27,
     "metadata": {},
     "output_type": "execute_result"
    }
   ],
   "source": [
    "X = sub_df.to_numpy()\n",
    "X"
   ]
  },
  {
   "cell_type": "markdown",
   "id": "c855c49b",
   "metadata": {},
   "source": [
    "* Compute matrix-matrix multiplication between the transpose of X and X"
   ]
  },
  {
   "cell_type": "code",
   "execution_count": 28,
   "id": "556bd729",
   "metadata": {},
   "outputs": [],
   "source": [
    "XTX = np.matmul(X.T,X)"
   ]
  },
  {
   "cell_type": "markdown",
   "id": "0b6274b5",
   "metadata": {},
   "source": [
    "* Invert XTX"
   ]
  },
  {
   "cell_type": "code",
   "execution_count": 29,
   "id": "d08e498e",
   "metadata": {},
   "outputs": [],
   "source": [
    "inv_XTX = np.linalg.inv(XTX)"
   ]
  },
  {
   "cell_type": "markdown",
   "id": "e3532fb5",
   "metadata": {},
   "source": [
    "* Create an array"
   ]
  },
  {
   "cell_type": "code",
   "execution_count": 30,
   "id": "cf441872",
   "metadata": {},
   "outputs": [],
   "source": [
    "y = np.array([1100,800,750,850,1300,1000,1000,1300,800])"
   ]
  },
  {
   "cell_type": "markdown",
   "id": "6f5b6d83",
   "metadata": {},
   "source": [
    "* Multiply the inverse of `XTX` with the transpose of `X`, and then multiply the result by `y`"
   ]
  },
  {
   "cell_type": "code",
   "execution_count": 31,
   "id": "c2f96d75",
   "metadata": {},
   "outputs": [],
   "source": [
    "i = np.matmul(inv_XTX,X.T)\n",
    "w = np.matmul(i,y)"
   ]
  },
  {
   "cell_type": "markdown",
   "id": "f414d86d",
   "metadata": {},
   "source": [
    "* What's the value of the first element of `w`?"
   ]
  },
  {
   "cell_type": "code",
   "execution_count": 32,
   "id": "9bc51d30",
   "metadata": {},
   "outputs": [
    {
     "data": {
      "text/plain": [
       "4.594944810094579"
      ]
     },
     "execution_count": 32,
     "metadata": {},
     "output_type": "execute_result"
    }
   ],
   "source": [
    "w[0]"
   ]
  },
  {
   "cell_type": "code",
   "execution_count": null,
   "id": "94e3c6be",
   "metadata": {},
   "outputs": [],
   "source": []
  }
 ],
 "metadata": {
  "kernelspec": {
   "display_name": "Python 3 (ipykernel)",
   "language": "python",
   "name": "python3"
  },
  "language_info": {
   "codemirror_mode": {
    "name": "ipython",
    "version": 3
   },
   "file_extension": ".py",
   "mimetype": "text/x-python",
   "name": "python",
   "nbconvert_exporter": "python",
   "pygments_lexer": "ipython3",
   "version": "3.10.4"
  }
 },
 "nbformat": 4,
 "nbformat_minor": 5
}
